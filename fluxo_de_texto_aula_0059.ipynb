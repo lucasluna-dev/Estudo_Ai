{
 "cells": [
  {
   "cell_type": "code",
   "execution_count": null,
   "id": "204656ff",
   "metadata": {},
   "outputs": [],
   "source": [
    "## aula sobre geração de texto com OpenAI e fluxo de textos\n",
    "## fluxo de texto muito usado em chatbots, como o ChatGPT para gerar respostas em tempo real."
   ]
  },
  {
   "cell_type": "code",
   "execution_count": 11,
   "id": "0d66c63a",
   "metadata": {},
   "outputs": [],
   "source": [
    "import openai # Importing OpenAI library\n",
    "from dotenv import load_dotenv, find_dotenv # Importing load_dotenv and find_dotenv from dotenv module\n",
    "\n",
    "_ = load_dotenv(find_dotenv()) # Loading environment variables from .env file"
   ]
  },
  {
   "cell_type": "code",
   "execution_count": 2,
   "id": "4f9e7f42",
   "metadata": {},
   "outputs": [],
   "source": [
    "\n",
    "client = openai.Client() # Creating an OpenAI client instance todos os metodos de acesso a API"
   ]
  },
  {
   "cell_type": "code",
   "execution_count": 7,
   "id": "0da309e4",
   "metadata": {},
   "outputs": [],
   "source": [
    "mensagens = [{'role': 'user', 'content': 'conte a historia de clube de futebol vasco da gama, sobre o racismo.'}]\n",
    "response = client.chat.completions.create(\n",
    "    messages=mensagens,\n",
    "    model='gpt-3.5-turbo',\n",
    "    max_tokens=1000,\n",
    "    temperature=0,\n",
    "    stream=True  # Enable streaming for real-time response updates\n",
    "    \n",
    ")\n"
   ]
  },
  {
   "cell_type": "code",
   "execution_count": 8,
   "id": "d0566bf6",
   "metadata": {},
   "outputs": [
    {
     "name": "stdout",
     "output_type": "stream",
     "text": [
      "O Club de Regatas Vasco da Gama, mais conhecido como Vasco da Gama, é um dos clubes de futebol mais tradicionais do Brasil. Fundado em 1898, o clube tem uma história marcada por lutas contra o racismo e pela inclusão social.\n",
      "\n",
      "Desde os seus primeiros anos, o Vasco da Gama se destacou por ser um clube que acolhia jogadores negros em um período em que o futebol brasileiro era dominado por atletas brancos. Em 1923, o clube se tornou o primeiro a ter uma equipe de futebol formada majoritariamente por jogadores negros, o que causou polêmica e resistência por parte de outros clubes e da sociedade em geral.\n",
      "\n",
      "Apesar das críticas e do preconceito, o Vasco da Gama manteve sua postura inclusiva e continuou a promover a igualdade racial em seu elenco e em suas ações. Em 1945, o clube foi o responsável por organizar o primeiro jogo interracial do futebol brasileiro, reunindo jogadores negros e brancos em uma partida histórica que marcou a luta contra o racismo no esporte.\n",
      "\n",
      "Ao longo dos anos, o Vasco da Gama se tornou um símbolo de resistência e luta contra o racismo no futebol brasileiro, inspirando outros clubes e atletas a se engajarem na luta pela igualdade racial. O clube também desenvolveu projetos sociais e educacionais voltados para a inclusão de jovens negros e de comunidades carentes, reafirmando seu compromisso com a promoção da diversidade e da justiça social.\n",
      "\n",
      "Assim, o Vasco da Gama se tornou muito mais do que um clube de futebol, sendo reconhecido como uma instituição que defende os direitos humanos e a igualdade de oportunidades para todos, independentemente de sua cor de pele. Sua história de luta contra o racismo continua a inspirar gerações e a reafirmar a importância do esporte como um instrumento de transformação social."
     ]
    }
   ],
   "source": [
    "response_complete = ''\n",
    "for stream_response in response:\n",
    "    texto = stream_response.choices[0].delta.content\n",
    "    if texto :\n",
    "        response_complete += texto\n",
    "        print(texto, end='')"
   ]
  },
  {
   "cell_type": "code",
   "execution_count": 9,
   "id": "937b8825",
   "metadata": {},
   "outputs": [
    {
     "data": {
      "text/plain": [
       "'O Club de Regatas Vasco da Gama, mais conhecido como Vasco da Gama, é um dos clubes de futebol mais tradicionais do Brasil. Fundado em 1898, o clube tem uma história marcada por lutas contra o racismo e pela inclusão social.\\n\\nDesde os seus primeiros anos, o Vasco da Gama se destacou por ser um clube que acolhia jogadores negros em um período em que o futebol brasileiro era dominado por atletas brancos. Em 1923, o clube se tornou o primeiro a ter uma equipe de futebol formada majoritariamente por jogadores negros, o que causou polêmica e resistência por parte de outros clubes e da sociedade em geral.\\n\\nApesar das críticas e do preconceito, o Vasco da Gama manteve sua postura inclusiva e continuou a promover a igualdade racial em seu elenco e em suas ações. Em 1945, o clube foi o responsável por organizar o primeiro jogo interracial do futebol brasileiro, reunindo jogadores negros e brancos em uma partida histórica que marcou a luta contra o racismo no esporte.\\n\\nAo longo dos anos, o Vasco da Gama se tornou um símbolo de resistência e luta contra o racismo no futebol brasileiro, inspirando outros clubes e atletas a se engajarem na luta pela igualdade racial. O clube também desenvolveu projetos sociais e educacionais voltados para a inclusão de jovens negros e de comunidades carentes, reafirmando seu compromisso com a promoção da diversidade e da justiça social.\\n\\nAssim, o Vasco da Gama se tornou muito mais do que um clube de futebol, sendo reconhecido como uma instituição que defende os direitos humanos e a igualdade de oportunidades para todos, independentemente de sua cor de pele. Sua história de luta contra o racismo continua a inspirar gerações e a reafirmar a importância do esporte como um instrumento de transformação social.'"
      ]
     },
     "execution_count": 9,
     "metadata": {},
     "output_type": "execute_result"
    }
   ],
   "source": [
    "response_complete # Print the complete response after streaming"
   ]
  }
 ],
 "metadata": {
  "kernelspec": {
   "display_name": "Python 3",
   "language": "python",
   "name": "python3"
  },
  "language_info": {
   "codemirror_mode": {
    "name": "ipython",
    "version": 3
   },
   "file_extension": ".py",
   "mimetype": "text/x-python",
   "name": "python",
   "nbconvert_exporter": "python",
   "pygments_lexer": "ipython3",
   "version": "3.13.5"
  }
 },
 "nbformat": 4,
 "nbformat_minor": 5
}
