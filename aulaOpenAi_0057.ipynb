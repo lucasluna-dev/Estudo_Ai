{
 "cells": [
  {
   "cell_type": "code",
   "execution_count": 38,
   "id": "74f443d2",
   "metadata": {},
   "outputs": [],
   "source": [
    "### aula sobre geraçãio de texto com OpenAI"
   ]
  },
  {
   "cell_type": "code",
   "execution_count": 8,
   "id": "eabb0f6c",
   "metadata": {},
   "outputs": [],
   "source": [
    "import openai # Importing OpenAI library\n",
    "from dotenv import load_dotenv, find_dotenv # Importing load_dotenv and find_dotenv from dotenv module\n",
    "\n",
    "_ = load_dotenv(find_dotenv()) # Loading environment variables from .env file"
   ]
  },
  {
   "cell_type": "code",
   "execution_count": 9,
   "id": "4ec4c192",
   "metadata": {},
   "outputs": [],
   "source": [
    "\n",
    "client = openai.Client() # Creating an OpenAI client instance todos os metodos de acesso a API"
   ]
  },
  {
   "cell_type": "code",
   "execution_count": 10,
   "id": "c4aa991a",
   "metadata": {},
   "outputs": [],
   "source": [
    "mensagens = [{'role': 'user', 'content': 'oque é uma maça?'}]\n",
    "\n",
    "response = client.chat.completions.create(\n",
    "    messages=mensagens,\n",
    "    model='gpt-3.5-turbo',\n",
    "    max_tokens=1000,\n",
    "    temperature=0\n",
    ")\n"
   ]
  },
  {
   "cell_type": "code",
   "execution_count": null,
   "id": "5bd577a5",
   "metadata": {},
   "outputs": [
    {
     "data": {
      "text/plain": [
       "'Uma maçã é uma fruta redonda, geralmente de cor vermelha, verde ou amarela, com uma polpa suculenta e sabor adocicado. É uma fruta muito popular e consumida em todo o mundo, sendo conhecida por seu valor nutricional e benefícios para a saúde.'"
      ]
     },
     "execution_count": 3,
     "metadata": {},
     "output_type": "execute_result"
    }
   ],
   "source": [
    "print(response.choices[0].message.content) # Accessing the content of the response"
   ]
  },
  {
   "cell_type": "code",
   "execution_count": 11,
   "id": "5f8cfc0c",
   "metadata": {},
   "outputs": [],
   "source": [
    "mensagens.append({'role': 'assistant', 'content': response.choices[0].message.content}) # Appending the assistant's response to the messages list"
   ]
  },
  {
   "cell_type": "code",
   "execution_count": 12,
   "id": "3afe8841",
   "metadata": {},
   "outputs": [],
   "source": [
    "mensagens.append({'role': 'user', 'content': 'e como posso comer uma maça?'}) # Adding another user message to the conversation"
   ]
  },
  {
   "cell_type": "code",
   "execution_count": 13,
   "id": "5fb4caa6",
   "metadata": {},
   "outputs": [
    {
     "data": {
      "text/plain": [
       "[{'role': 'user', 'content': 'oque é uma maça?'},\n",
       " {'role': 'assistant',\n",
       "  'content': 'Uma maçã é uma fruta redonda, geralmente de cor vermelha, verde ou amarela, com polpa branca e suculenta. É uma das frutas mais populares e consumidas em todo o mundo, sendo conhecida por seu sabor doce e refrescante. A maçã é rica em fibras, vitaminas e minerais, sendo considerada uma fruta muito saudável. Ela pode ser consumida in natura, em sucos, saladas de frutas, sobremesas e diversas outras preparações culinárias.'},\n",
       " {'role': 'user', 'content': 'e como posso comer uma maça?'}]"
      ]
     },
     "execution_count": 13,
     "metadata": {},
     "output_type": "execute_result"
    }
   ],
   "source": [
    "mensagens"
   ]
  },
  {
   "cell_type": "code",
   "execution_count": 14,
   "id": "52a5fdd0",
   "metadata": {},
   "outputs": [],
   "source": [
    "\n",
    "response = client.chat.completions.create(\n",
    "    messages=mensagens,\n",
    "    model='gpt-3.5-turbo',\n",
    "    max_tokens=1000,\n",
    "    temperature=0\n",
    ")"
   ]
  },
  {
   "cell_type": "code",
   "execution_count": 16,
   "id": "fdf4d458",
   "metadata": {},
   "outputs": [
    {
     "name": "stdout",
     "output_type": "stream",
     "text": [
      "Existem várias maneiras de comer uma maçã, dependendo das preferências de cada pessoa. Aqui estão algumas sugestões:\n",
      "\n",
      "1. Comer a maçã inteira, lavando-a bem e mordendo diretamente na fruta.\n",
      "2. Cortar a maçã em fatias ou pedaços e comer como um lanche.\n",
      "3. Fazer um purê de maçã, cozinhando a fruta com um pouco de água e açúcar até ficar macia, e depois amassando ou batendo no liquidificador.\n",
      "4. Adicionar maçã picada em saladas de frutas, saladas verdes ou pratos principais.\n",
      "5. Fazer suco de maçã fresco, batendo a fruta no liquidificador e coando o suco.\n",
      "6. Assar a maçã no forno com um pouco de canela e açúcar, para uma sobremesa quente e reconfortante.\n",
      "7. Fazer compota de maçã, cozinhando a fruta com açúcar e especiarias até obter uma consistência de geleia.\n",
      "8. Adicionar maçã em receitas de bolos, tortas, muffins e outras sobremesas.\n",
      "\n",
      "Essas são apenas algumas ideias de como você pode desfrutar de uma maçã. Experimente diferentes formas de preparo e descubra qual é a sua maneira favorita de comer essa fruta deliciosa e saudável.\n"
     ]
    }
   ],
   "source": [
    "print(response.choices[0].message.content)"
   ]
  },
  {
   "cell_type": "code",
   "execution_count": null,
   "id": "923abc79",
   "metadata": {},
   "outputs": [],
   "source": [
    "## Fazendo os mesmo exmplos de cima, mas agora em uma função\n",
    "\n",
    "def geracao_texto(mensagens, model='gpt-3.5-turbo', max_tokens=1000, temperature=0):\n",
    "    response = client.chat.completions.create(\n",
    "        messages=mensagens,\n",
    "        model=model,\n",
    "        max_tokens=max_tokens,\n",
    "        temperature=temperature\n",
    "    )\n",
    "      # Appending the assistant's response to the messages list\n",
    "    print(response.choices[0].message.content)  # Printing the content of the response\n",
    "    mensagens.append(response.choices[0].message.model_dump(exclude_none=True))\n",
    "    return mensagens\n",
    "\n"
   ]
  },
  {
   "cell_type": "code",
   "execution_count": 27,
   "id": "73d3c498",
   "metadata": {},
   "outputs": [
    {
     "name": "stdout",
     "output_type": "stream",
     "text": [
      "Fruta, suculenta, doce, saudável, colorida.\n"
     ]
    }
   ],
   "source": [
    "mensagens.append({'role': 'user', 'content': ' oque é uma maça em 5 palavras?'})\n",
    "mensagens = geracao_texto(mensagens)"
   ]
  },
  {
   "cell_type": "code",
   "execution_count": 28,
   "id": "7f921665",
   "metadata": {},
   "outputs": [],
   "source": [
    "## Explorando classe de reposta"
   ]
  },
  {
   "cell_type": "code",
   "execution_count": 30,
   "id": "152e6cba",
   "metadata": {},
   "outputs": [],
   "source": [
    "mensagens = [{'role': 'user', 'content': 'oque é uma maça?'}]\n",
    "response = client.chat.completions.create(\n",
    "    messages=mensagens,\n",
    "    model='gpt-3.5-turbo',\n",
    "    max_tokens=1000,\n",
    "    temperature=0\n",
    ")\n",
    "\n"
   ]
  },
  {
   "cell_type": "code",
   "execution_count": 32,
   "id": "938712dc",
   "metadata": {},
   "outputs": [
    {
     "data": {
      "text/plain": [
       "CompletionUsage(completion_tokens=137, prompt_tokens=13, total_tokens=150, completion_tokens_details=CompletionTokensDetails(accepted_prediction_tokens=0, audio_tokens=0, reasoning_tokens=0, rejected_prediction_tokens=0), prompt_tokens_details=PromptTokensDetails(audio_tokens=0, cached_tokens=0))"
      ]
     },
     "execution_count": 32,
     "metadata": {},
     "output_type": "execute_result"
    }
   ],
   "source": [
    "response.usage# Accessing the usage information of the response"
   ]
  },
  {
   "cell_type": "code",
   "execution_count": 34,
   "id": "a0dc3eda",
   "metadata": {},
   "outputs": [
    {
     "data": {
      "text/plain": [
       "{'content': 'Uma maçã é uma fruta redonda, geralmente de cor vermelha, verde ou amarela, com polpa branca e suculenta. É uma das frutas mais populares e consumidas em todo o mundo, sendo conhecida por seu sabor doce e refrescante. A maçã é rica em vitaminas, minerais e fibras, sendo considerada uma fruta muito saudável e benéfica para a saúde. Ela pode ser consumida in natura, em sucos, saladas de frutas, sobremesas e diversas outras preparações culinárias.',\n",
       " 'role': 'assistant',\n",
       " 'annotations': []}"
      ]
     },
     "execution_count": 34,
     "metadata": {},
     "output_type": "execute_result"
    }
   ],
   "source": [
    "response.choices[0].message.model_dump(exclude_none=True) # Accessing the model dump of the first choice's message"
   ]
  },
  {
   "cell_type": "code",
   "execution_count": 35,
   "id": "ddbc6a81",
   "metadata": {},
   "outputs": [],
   "source": [
    "## Explorando max_tokens e temperature"
   ]
  },
  {
   "cell_type": "code",
   "execution_count": null,
   "id": "2604d3ad",
   "metadata": {},
   "outputs": [
    {
     "name": "stdout",
     "output_type": "stream",
     "text": [
      "Fruta red\n"
     ]
    }
   ],
   "source": [
    "mensagens = [{'role': 'user', 'content': ' oque é uma maça em 5 palavras?'}]\n",
    "mensagens = geracao_texto(mensagens, max_tokens=3) # Adjusting max_tokens to limit the response length"
   ]
  },
  {
   "cell_type": "code",
   "execution_count": null,
   "id": "b8e7ca7e",
   "metadata": {},
   "outputs": [],
   "source": [
    "mensagens = [{'role': 'user', 'content': ' oque é uma maça em 5 palavras?'}]\n",
    "mensagens = geracao_texto(mensagens, temperature=1) # Adjusting temperature to control randomness in the response"
   ]
  }
 ],
 "metadata": {
  "kernelspec": {
   "display_name": "Python 3",
   "language": "python",
   "name": "python3"
  },
  "language_info": {
   "codemirror_mode": {
    "name": "ipython",
    "version": 3
   },
   "file_extension": ".py",
   "mimetype": "text/x-python",
   "name": "python",
   "nbconvert_exporter": "python",
   "pygments_lexer": "ipython3",
   "version": "3.13.5"
  }
 },
 "nbformat": 4,
 "nbformat_minor": 5
}
